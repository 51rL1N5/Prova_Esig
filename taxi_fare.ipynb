{
  "nbformat": 4,
  "nbformat_minor": 0,
  "metadata": {
    "colab": {
      "name": "taxi_fare.ipynb",
      "version": "0.3.2",
      "provenance": [],
      "collapsed_sections": [],
      "include_colab_link": true
    },
    "kernelspec": {
      "name": "python3",
      "display_name": "Python 3"
    },
    "accelerator": "GPU"
  },
  "cells": [
    {
      "cell_type": "markdown",
      "metadata": {
        "id": "view-in-github",
        "colab_type": "text"
      },
      "source": [
        "<a href=\"https://colab.research.google.com/github/51rL1N5/Prova_Esig/blob/master/taxi_fare.ipynb\" target=\"_parent\"><img src=\"https://colab.research.google.com/assets/colab-badge.svg\" alt=\"Open In Colab\"/></a>"
      ]
    },
    {
      "metadata": {
        "id": "1cmfkIharL8N",
        "colab_type": "code",
        "colab": {}
      },
      "cell_type": "code",
      "source": [
        "import pandas as pd\n",
        "import numpy as np\n",
        "import seaborn as sbs\n",
        "from haversine import haversine"
      ],
      "execution_count": 0,
      "outputs": []
    },
    {
      "metadata": {
        "id": "3Y4y3dv3rTgL",
        "colab_type": "code",
        "colab": {}
      },
      "cell_type": "code",
      "source": [
        "# Como o banco de dados é muito grnade, irei analizar-lo por blocos\n",
        "# Que são suficientemente grandes para podermos supor que representam bem uma aproximação\n",
        "# da estatística global.\n",
        "\n",
        "# Logo após processar todos eles, é necessário fazer uma média das análises (estacionaridade)\n",
        "\n",
        "\n",
        "chunksize = 10 ** 6\n",
        "\n",
        "chunk = pd.read_csv('train.csv', nrows=chunksize)"
      ],
      "execution_count": 0,
      "outputs": []
    },
    {
      "metadata": {
        "id": "yXyjMuPyrYeP",
        "colab_type": "code",
        "outputId": "240db333-4294-4a87-9f54-7536a75074b2",
        "colab": {
          "base_uri": "https://localhost:8080/",
          "height": 206
        }
      },
      "cell_type": "code",
      "source": [
        "# Olhando a cara dos dados\n",
        "\n",
        "chunk.head()"
      ],
      "execution_count": 59,
      "outputs": [
        {
          "output_type": "execute_result",
          "data": {
            "text/html": [
              "<div>\n",
              "<style scoped>\n",
              "    .dataframe tbody tr th:only-of-type {\n",
              "        vertical-align: middle;\n",
              "    }\n",
              "\n",
              "    .dataframe tbody tr th {\n",
              "        vertical-align: top;\n",
              "    }\n",
              "\n",
              "    .dataframe thead th {\n",
              "        text-align: right;\n",
              "    }\n",
              "</style>\n",
              "<table border=\"1\" class=\"dataframe\">\n",
              "  <thead>\n",
              "    <tr style=\"text-align: right;\">\n",
              "      <th></th>\n",
              "      <th>key</th>\n",
              "      <th>fare_amount</th>\n",
              "      <th>pickup_datetime</th>\n",
              "      <th>pickup_longitude</th>\n",
              "      <th>pickup_latitude</th>\n",
              "      <th>dropoff_longitude</th>\n",
              "      <th>dropoff_latitude</th>\n",
              "      <th>passenger_count</th>\n",
              "    </tr>\n",
              "  </thead>\n",
              "  <tbody>\n",
              "    <tr>\n",
              "      <th>0</th>\n",
              "      <td>2009-06-15 17:26:21.0000001</td>\n",
              "      <td>4.5</td>\n",
              "      <td>2009-06-15 17:26:21 UTC</td>\n",
              "      <td>-73.844311</td>\n",
              "      <td>40.721319</td>\n",
              "      <td>-73.841610</td>\n",
              "      <td>40.712278</td>\n",
              "      <td>1</td>\n",
              "    </tr>\n",
              "    <tr>\n",
              "      <th>1</th>\n",
              "      <td>2010-01-05 16:52:16.0000002</td>\n",
              "      <td>16.9</td>\n",
              "      <td>2010-01-05 16:52:16 UTC</td>\n",
              "      <td>-74.016048</td>\n",
              "      <td>40.711303</td>\n",
              "      <td>-73.979268</td>\n",
              "      <td>40.782004</td>\n",
              "      <td>1</td>\n",
              "    </tr>\n",
              "    <tr>\n",
              "      <th>2</th>\n",
              "      <td>2011-08-18 00:35:00.00000049</td>\n",
              "      <td>5.7</td>\n",
              "      <td>2011-08-18 00:35:00 UTC</td>\n",
              "      <td>-73.982738</td>\n",
              "      <td>40.761270</td>\n",
              "      <td>-73.991242</td>\n",
              "      <td>40.750562</td>\n",
              "      <td>2</td>\n",
              "    </tr>\n",
              "    <tr>\n",
              "      <th>3</th>\n",
              "      <td>2012-04-21 04:30:42.0000001</td>\n",
              "      <td>7.7</td>\n",
              "      <td>2012-04-21 04:30:42 UTC</td>\n",
              "      <td>-73.987130</td>\n",
              "      <td>40.733143</td>\n",
              "      <td>-73.991567</td>\n",
              "      <td>40.758092</td>\n",
              "      <td>1</td>\n",
              "    </tr>\n",
              "    <tr>\n",
              "      <th>4</th>\n",
              "      <td>2010-03-09 07:51:00.000000135</td>\n",
              "      <td>5.3</td>\n",
              "      <td>2010-03-09 07:51:00 UTC</td>\n",
              "      <td>-73.968095</td>\n",
              "      <td>40.768008</td>\n",
              "      <td>-73.956655</td>\n",
              "      <td>40.783762</td>\n",
              "      <td>1</td>\n",
              "    </tr>\n",
              "  </tbody>\n",
              "</table>\n",
              "</div>"
            ],
            "text/plain": [
              "                             key  fare_amount          pickup_datetime  \\\n",
              "0    2009-06-15 17:26:21.0000001          4.5  2009-06-15 17:26:21 UTC   \n",
              "1    2010-01-05 16:52:16.0000002         16.9  2010-01-05 16:52:16 UTC   \n",
              "2   2011-08-18 00:35:00.00000049          5.7  2011-08-18 00:35:00 UTC   \n",
              "3    2012-04-21 04:30:42.0000001          7.7  2012-04-21 04:30:42 UTC   \n",
              "4  2010-03-09 07:51:00.000000135          5.3  2010-03-09 07:51:00 UTC   \n",
              "\n",
              "   pickup_longitude  pickup_latitude  dropoff_longitude  dropoff_latitude  \\\n",
              "0        -73.844311        40.721319         -73.841610         40.712278   \n",
              "1        -74.016048        40.711303         -73.979268         40.782004   \n",
              "2        -73.982738        40.761270         -73.991242         40.750562   \n",
              "3        -73.987130        40.733143         -73.991567         40.758092   \n",
              "4        -73.968095        40.768008         -73.956655         40.783762   \n",
              "\n",
              "   passenger_count  \n",
              "0                1  \n",
              "1                1  \n",
              "2                2  \n",
              "3                1  \n",
              "4                1  "
            ]
          },
          "metadata": {
            "tags": []
          },
          "execution_count": 59
        }
      ]
    },
    {
      "metadata": {
        "id": "kHQ67jNLru90",
        "colab_type": "code",
        "colab": {}
      },
      "cell_type": "code",
      "source": [
        "# Primeiro, vamos limpar os dados \n",
        "\n",
        "\"\"\"\n",
        "----- Limpeza de coordenadas -------------\n",
        "\n",
        "Sei que a latitude é um número limitado entre -90 <= lat <= 90  \n",
        "Bem como a longitude é limitada entre -180 <= long <= 180\n",
        "\n",
        "Então, irei eliminar dados que apresentarem esses dados expúrios\n",
        "\n",
        "\"\"\"\n",
        "\n",
        "chunk = chunk[\n",
        "               ( abs(chunk['pickup_latitude']) <= 90 ) & ( abs(chunk['pickup_longitude']) <= 180 ) & ( abs(chunk['dropoff_latitude']) <= 90 ) & ( abs(chunk['dropoff_longitude']) <= 180 )\n",
        "             ]\n",
        "\n",
        "\"\"\"\n",
        "----- Limpeza de taxas -------------------\n",
        "\n",
        "Não faz sentido que tenhamos preço pago negativo\n",
        "Logo, eliminaremos os dados que possuam tal característica\n",
        "\n",
        "\"\"\"\n",
        "\n",
        "chunk = chunk[\n",
        "               (chunk['fare_amount'] >= 0)\n",
        "             ]\n",
        "\n",
        "chunk.count()\n",
        "\n",
        "\"\"\"\n",
        "----- Remover, caso existam, dados nulos (faltantes) -------------\n",
        "\"\"\"\n",
        "chunk = chunk.drop(chunk[chunk.isnull().any(1)].index, axis=0)"
      ],
      "execution_count": 0,
      "outputs": []
    },
    {
      "metadata": {
        "id": "3fgjQh_m5LXw",
        "colab_type": "code",
        "colab": {}
      },
      "cell_type": "code",
      "source": [
        ""
      ],
      "execution_count": 0,
      "outputs": []
    },
    {
      "metadata": {
        "id": "xF4VgmntsXs2",
        "colab_type": "code",
        "colab": {}
      },
      "cell_type": "code",
      "source": [
        "# Agora, criaremos um indicador de distancia percorrida, bem como criarei mais colunas\n",
        "# Com mais informação util, como Dia, Mês, Ano, hora, minuto, segundo\n",
        "\n",
        "\n",
        "# Para calcularmos a distancia, se faz necessário usar a formula de haversine que pega dois pontos em uma esfera (latitude e longitude) e converte para distancia em metros\n",
        "\n",
        "def haversine_1 (lat1, long1, lat2, long2):\n",
        "  \n",
        "  # Lambda é a longitude\n",
        "  # Phi é a latitude\n",
        "  R = 6371 # raio da terra em km\n",
        "\n",
        "  phi_1 = np.radians(chunk[lat1])\n",
        "  phi_2 = np.radians(chunk[lat2])\n",
        "\n",
        "  delta_phi    = np.radians(chunk[lat2] - chunk[lat1])\n",
        "  delta_lambda = np.radians(chunk[long2] - chunk[long1])\n",
        "\n",
        "  #a = sin²((φB - φA)/2) + cos φA . cos φB . sin²((λB - λA)/2)\n",
        "  a = np.sin(delta_phi / 2.0) ** 2 + np.cos(phi_1) * np.cos(phi_2) * np.sin(delta_lambda / 2.0) ** 2\n",
        "\n",
        "  #c = 2 * atan2( √a, √(1−a) )\n",
        "  c = 2 * np.arctan2(np.sqrt(a), np.sqrt(1-a))\n",
        "\n",
        "\n",
        "  #d = R*c\n",
        "  d = (R * c) # distancia em km\n",
        "\n",
        "  chunk['distancia'] = d \n",
        "  return d\n",
        "                                 \n",
        "\n",
        "haversine_1('pickup_latitude', 'pickup_longitude', 'dropoff_latitude', 'dropoff_longitude')"
      ],
      "execution_count": 0,
      "outputs": []
    },
    {
      "metadata": {
        "id": "vmDmw-jYxNxM",
        "colab_type": "code",
        "colab": {}
      },
      "cell_type": "code",
      "source": [
        "# converter string para date_time, para obtermos os dados temporais\n",
        "\n",
        "chunk['key']             = pd.to_datetime(chunk['key'])\n",
        "\n",
        "chunk['pickup_datetime'] = pd.to_datetime(chunk['pickup_datetime'])"
      ],
      "execution_count": 0,
      "outputs": []
    },
    {
      "metadata": {
        "id": "qDFecUfZ1X2R",
        "colab_type": "code",
        "colab": {
          "base_uri": "https://localhost:8080/",
          "height": 191
        },
        "outputId": "a875e92d-8149-439d-e322-d33af0488fe6"
      },
      "cell_type": "code",
      "source": [
        "# Olhando a cara dos atributos dos dados após a conversão\n",
        "\n",
        "chunk.dtypes"
      ],
      "execution_count": 79,
      "outputs": [
        {
          "output_type": "execute_result",
          "data": {
            "text/plain": [
              "key                  datetime64[ns]\n",
              "fare_amount                 float64\n",
              "pickup_datetime      datetime64[ns]\n",
              "pickup_longitude            float64\n",
              "pickup_latitude             float64\n",
              "dropoff_longitude           float64\n",
              "dropoff_latitude            float64\n",
              "passenger_count               int64\n",
              "distancia                   float64\n",
              "dtype: object"
            ]
          },
          "metadata": {
            "tags": []
          },
          "execution_count": 79
        }
      ]
    },
    {
      "metadata": {
        "id": "PdYL01iw0hRc",
        "colab_type": "code",
        "colab": {}
      },
      "cell_type": "code",
      "source": [
        "# Separando os dados temporais para podermos visualizar-los melhor\n",
        "\n",
        "chunk['Ano'] = chunk['pickup_datetime'].dt.year\n",
        "chunk['Mes'] = chunk['pickup_datetime'].dt.month\n",
        "chunk['Dia'] = chunk['pickup_datetime'].dt.day\n",
        "chunk['Dia da semana'] = chunk['pickup_datetime'].dt.dayofweek\n",
        "chunk['Horario'] = chunk['pickup_datetime'].dt.hour"
      ],
      "execution_count": 0,
      "outputs": []
    },
    {
      "metadata": {
        "id": "VDEGRPWr4POy",
        "colab_type": "code",
        "colab": {}
      },
      "cell_type": "code",
      "source": [
        ""
      ],
      "execution_count": 0,
      "outputs": []
    }
  ]
}