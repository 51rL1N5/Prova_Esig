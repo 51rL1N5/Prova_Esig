{
  "nbformat": 4,
  "nbformat_minor": 0,
  "metadata": {
    "colab": {
      "name": "taxi_fare.ipynb",
      "version": "0.3.2",
      "provenance": [],
      "collapsed_sections": [],
      "include_colab_link": true
    },
    "kernelspec": {
      "name": "python3",
      "display_name": "Python 3"
    },
    "accelerator": "GPU"
  },
  "cells": [
    {
      "cell_type": "markdown",
      "metadata": {
        "id": "view-in-github",
        "colab_type": "text"
      },
      "source": [
        "<a href=\"https://colab.research.google.com/github/51rL1N5/Prova_Esig/blob/master/taxi_fare.ipynb\" target=\"_parent\"><img src=\"https://colab.research.google.com/assets/colab-badge.svg\" alt=\"Open In Colab\"/></a>"
      ]
    },
    {
      "metadata": {
        "id": "1cmfkIharL8N",
        "colab_type": "code",
        "colab": {}
      },
      "cell_type": "code",
      "source": [
        "import pandas as pd\n",
        "import numpy as np\n",
        "import seaborn as sbs\n",
        "from haversine import haversine"
      ],
      "execution_count": 0,
      "outputs": []
    },
    {
      "metadata": {
        "id": "3Y4y3dv3rTgL",
        "colab_type": "code",
        "colab": {}
      },
      "cell_type": "code",
      "source": [
        "# Como o banco de dados é muito grnade, irei analizar-lo por blocos\n",
        "# Que são suficientemente grandes para podermos supor que representam bem uma aproximação\n",
        "# da estatística global.\n",
        "\n",
        "# Logo após processar todos eles, é necessário fazer uma média das análises (estacionaridade)\n",
        "\n",
        "\n",
        "chunksize = 10 ** 6\n",
        "\n",
        "chunk = pd.read_csv('train.csv', nrows=chunksize)"
      ],
      "execution_count": 0,
      "outputs": []
    },
    {
      "metadata": {
        "id": "yXyjMuPyrYeP",
        "colab_type": "code",
        "outputId": "c70f98db-5a74-4515-b6ab-caa85e236bf2",
        "colab": {
          "base_uri": "https://localhost:8080/",
          "height": 206
        }
      },
      "cell_type": "code",
      "source": [
        "# Olhando a cara dos dados\n",
        "\n",
        "chunk.head()"
      ],
      "execution_count": 98,
      "outputs": [
        {
          "output_type": "execute_result",
          "data": {
            "text/html": [
              "<div>\n",
              "<style scoped>\n",
              "    .dataframe tbody tr th:only-of-type {\n",
              "        vertical-align: middle;\n",
              "    }\n",
              "\n",
              "    .dataframe tbody tr th {\n",
              "        vertical-align: top;\n",
              "    }\n",
              "\n",
              "    .dataframe thead th {\n",
              "        text-align: right;\n",
              "    }\n",
              "</style>\n",
              "<table border=\"1\" class=\"dataframe\">\n",
              "  <thead>\n",
              "    <tr style=\"text-align: right;\">\n",
              "      <th></th>\n",
              "      <th>key</th>\n",
              "      <th>fare_amount</th>\n",
              "      <th>pickup_datetime</th>\n",
              "      <th>pickup_longitude</th>\n",
              "      <th>pickup_latitude</th>\n",
              "      <th>dropoff_longitude</th>\n",
              "      <th>dropoff_latitude</th>\n",
              "      <th>passenger_count</th>\n",
              "    </tr>\n",
              "  </thead>\n",
              "  <tbody>\n",
              "    <tr>\n",
              "      <th>0</th>\n",
              "      <td>2009-06-15 17:26:21.0000001</td>\n",
              "      <td>4.5</td>\n",
              "      <td>2009-06-15 17:26:21 UTC</td>\n",
              "      <td>-73.844311</td>\n",
              "      <td>40.721319</td>\n",
              "      <td>-73.841610</td>\n",
              "      <td>40.712278</td>\n",
              "      <td>1</td>\n",
              "    </tr>\n",
              "    <tr>\n",
              "      <th>1</th>\n",
              "      <td>2010-01-05 16:52:16.0000002</td>\n",
              "      <td>16.9</td>\n",
              "      <td>2010-01-05 16:52:16 UTC</td>\n",
              "      <td>-74.016048</td>\n",
              "      <td>40.711303</td>\n",
              "      <td>-73.979268</td>\n",
              "      <td>40.782004</td>\n",
              "      <td>1</td>\n",
              "    </tr>\n",
              "    <tr>\n",
              "      <th>2</th>\n",
              "      <td>2011-08-18 00:35:00.00000049</td>\n",
              "      <td>5.7</td>\n",
              "      <td>2011-08-18 00:35:00 UTC</td>\n",
              "      <td>-73.982738</td>\n",
              "      <td>40.761270</td>\n",
              "      <td>-73.991242</td>\n",
              "      <td>40.750562</td>\n",
              "      <td>2</td>\n",
              "    </tr>\n",
              "    <tr>\n",
              "      <th>3</th>\n",
              "      <td>2012-04-21 04:30:42.0000001</td>\n",
              "      <td>7.7</td>\n",
              "      <td>2012-04-21 04:30:42 UTC</td>\n",
              "      <td>-73.987130</td>\n",
              "      <td>40.733143</td>\n",
              "      <td>-73.991567</td>\n",
              "      <td>40.758092</td>\n",
              "      <td>1</td>\n",
              "    </tr>\n",
              "    <tr>\n",
              "      <th>4</th>\n",
              "      <td>2010-03-09 07:51:00.000000135</td>\n",
              "      <td>5.3</td>\n",
              "      <td>2010-03-09 07:51:00 UTC</td>\n",
              "      <td>-73.968095</td>\n",
              "      <td>40.768008</td>\n",
              "      <td>-73.956655</td>\n",
              "      <td>40.783762</td>\n",
              "      <td>1</td>\n",
              "    </tr>\n",
              "  </tbody>\n",
              "</table>\n",
              "</div>"
            ],
            "text/plain": [
              "                             key  fare_amount          pickup_datetime  \\\n",
              "0    2009-06-15 17:26:21.0000001          4.5  2009-06-15 17:26:21 UTC   \n",
              "1    2010-01-05 16:52:16.0000002         16.9  2010-01-05 16:52:16 UTC   \n",
              "2   2011-08-18 00:35:00.00000049          5.7  2011-08-18 00:35:00 UTC   \n",
              "3    2012-04-21 04:30:42.0000001          7.7  2012-04-21 04:30:42 UTC   \n",
              "4  2010-03-09 07:51:00.000000135          5.3  2010-03-09 07:51:00 UTC   \n",
              "\n",
              "   pickup_longitude  pickup_latitude  dropoff_longitude  dropoff_latitude  \\\n",
              "0        -73.844311        40.721319         -73.841610         40.712278   \n",
              "1        -74.016048        40.711303         -73.979268         40.782004   \n",
              "2        -73.982738        40.761270         -73.991242         40.750562   \n",
              "3        -73.987130        40.733143         -73.991567         40.758092   \n",
              "4        -73.968095        40.768008         -73.956655         40.783762   \n",
              "\n",
              "   passenger_count  \n",
              "0                1  \n",
              "1                1  \n",
              "2                2  \n",
              "3                1  \n",
              "4                1  "
            ]
          },
          "metadata": {
            "tags": []
          },
          "execution_count": 98
        }
      ]
    },
    {
      "metadata": {
        "id": "kHQ67jNLru90",
        "colab_type": "code",
        "colab": {}
      },
      "cell_type": "code",
      "source": [
        "# Primeiro, vamos limpar os dados \n",
        "\n",
        "\"\"\"\n",
        "----- Limpeza de coordenadas -------------\n",
        "\n",
        "Sei que a latitude é um número limitado entre -90 <= lat <= 90  \n",
        "Bem como a longitude é limitada entre -180 <= long <= 180\n",
        "\n",
        "Então, irei eliminar dados que apresentarem esses dados expúrios\n",
        "\n",
        "\"\"\"\n",
        "\n",
        "chunk = chunk[\n",
        "               ( abs(chunk['pickup_latitude']) <= 90 ) & ( abs(chunk['pickup_longitude']) <= 180 ) & ( abs(chunk['dropoff_latitude']) <= 90 ) & ( abs(chunk['dropoff_longitude']) <= 180 )\n",
        "             ]\n",
        "\n",
        "\"\"\"\n",
        "----- Limpeza de taxas -------------------\n",
        "\n",
        "Não faz sentido que tenhamos preço pago negativo\n",
        "Logo, eliminaremos os dados que possuam tal característica\n",
        "\n",
        "\"\"\"\n",
        "\n",
        "chunk = chunk[\n",
        "               (chunk['fare_amount'] >= 0)\n",
        "             ]\n",
        "\n",
        "chunk.count()\n",
        "\n",
        "\"\"\"\n",
        "----- Remover, caso existam, dados nulos (faltantes) -------------\n",
        "\"\"\"\n",
        "chunk = chunk.drop(chunk[chunk.isnull().any(1)].index, axis=0)"
      ],
      "execution_count": 0,
      "outputs": []
    },
    {
      "metadata": {
        "id": "3fgjQh_m5LXw",
        "colab_type": "code",
        "colab": {}
      },
      "cell_type": "code",
      "source": [
        ""
      ],
      "execution_count": 0,
      "outputs": []
    },
    {
      "metadata": {
        "id": "xF4VgmntsXs2",
        "colab_type": "code",
        "colab": {
          "base_uri": "https://localhost:8080/",
          "height": 1094
        },
        "outputId": "ec0f6f3a-f7fc-4078-9b73-9108a9d1b24c"
      },
      "cell_type": "code",
      "source": [
        "# Agora, criaremos um indicador de distancia percorrida, bem como criarei mais colunas\n",
        "# Com mais informação util, como Dia, Mês, Ano, hora, minuto, segundo\n",
        "\n",
        "\n",
        "# Para calcularmos a distancia, se faz necessário usar a formula de haversine que pega dois pontos em uma esfera (latitude e longitude) e converte para distancia em metros\n",
        "\n",
        "def haversine_1 (lat1, long1, lat2, long2):\n",
        "  \n",
        "  # Lambda é a longitude\n",
        "  # Phi é a latitude\n",
        "  R = 6371 # raio da terra em km\n",
        "\n",
        "  phi_1 = np.radians(chunk[lat1])\n",
        "  phi_2 = np.radians(chunk[lat2])\n",
        "\n",
        "  delta_phi    = np.radians(chunk[lat2] - chunk[lat1])\n",
        "  delta_lambda = np.radians(chunk[long2] - chunk[long1])\n",
        "\n",
        "  #a = sin²((φB - φA)/2) + cos φA . cos φB . sin²((λB - λA)/2)\n",
        "  a = np.sin(delta_phi / 2.0) ** 2 + np.cos(phi_1) * np.cos(phi_2) * np.sin(delta_lambda / 2.0) ** 2\n",
        "\n",
        "  #c = 2 * atan2( √a, √(1−a) )\n",
        "  c = 2 * np.arctan2(np.sqrt(a), np.sqrt(1-a))\n",
        "\n",
        "\n",
        "  #d = R*c\n",
        "  d = (R * c) # distancia em km\n",
        "\n",
        "  chunk['distancia'] = d \n",
        "  return d\n",
        "                                 \n",
        "\n",
        "haversine_1('pickup_latitude', 'pickup_longitude', 'dropoff_latitude', 'dropoff_longitude')"
      ],
      "execution_count": 100,
      "outputs": [
        {
          "output_type": "execute_result",
          "data": {
            "text/plain": [
              "0          1.030764\n",
              "1          8.450134\n",
              "2          1.389525\n",
              "3          2.799270\n",
              "4          1.999157\n",
              "5          3.787239\n",
              "6          1.555807\n",
              "7          4.155444\n",
              "8          1.253232\n",
              "9          2.849627\n",
              "10         1.374577\n",
              "11         0.000000\n",
              "12         0.717767\n",
              "13         2.019384\n",
              "14         1.671445\n",
              "15         0.000000\n",
              "16         2.609774\n",
              "17         1.511904\n",
              "18         0.921952\n",
              "19         0.399179\n",
              "20         1.686861\n",
              "21         2.292470\n",
              "22         0.924296\n",
              "23         1.403958\n",
              "24         1.017773\n",
              "25         2.531947\n",
              "26         0.000000\n",
              "27         0.328771\n",
              "28         4.073463\n",
              "29         0.808153\n",
              "            ...    \n",
              "999970     1.800660\n",
              "999971    16.888650\n",
              "999972     0.443274\n",
              "999973     0.509990\n",
              "999974     6.774274\n",
              "999975     9.357706\n",
              "999976     4.093045\n",
              "999977     5.314221\n",
              "999978     1.842736\n",
              "999979     3.689741\n",
              "999980     4.456025\n",
              "999981     3.622864\n",
              "999982     1.162477\n",
              "999983     0.806466\n",
              "999984     8.401025\n",
              "999985     1.344648\n",
              "999986     0.821492\n",
              "999987     0.240398\n",
              "999988     0.000000\n",
              "999989     1.102526\n",
              "999990     1.424234\n",
              "999991     3.036671\n",
              "999992     1.574966\n",
              "999993     3.742170\n",
              "999994     6.433776\n",
              "999995     1.879763\n",
              "999996     0.000000\n",
              "999997     1.761741\n",
              "999998     1.842683\n",
              "999999     0.758051\n",
              "Length: 999912, dtype: float64"
            ]
          },
          "metadata": {
            "tags": []
          },
          "execution_count": 100
        }
      ]
    },
    {
      "metadata": {
        "id": "vmDmw-jYxNxM",
        "colab_type": "code",
        "colab": {}
      },
      "cell_type": "code",
      "source": [
        "# converter string para date_time, para obtermos os dados temporais\n",
        "\n",
        "chunk['key']             = pd.to_datetime(chunk['key'])\n",
        "\n",
        "chunk['pickup_datetime'] = pd.to_datetime(chunk['pickup_datetime'])"
      ],
      "execution_count": 0,
      "outputs": []
    },
    {
      "metadata": {
        "id": "qDFecUfZ1X2R",
        "colab_type": "code",
        "outputId": "28c908ee-761a-48dc-9f1f-e701fae71fd3",
        "colab": {
          "base_uri": "https://localhost:8080/",
          "height": 191
        }
      },
      "cell_type": "code",
      "source": [
        "# Olhando a cara dos atributos dos dados após a conversão\n",
        "\n",
        "chunk.dtypes"
      ],
      "execution_count": 102,
      "outputs": [
        {
          "output_type": "execute_result",
          "data": {
            "text/plain": [
              "key                  datetime64[ns]\n",
              "fare_amount                 float64\n",
              "pickup_datetime      datetime64[ns]\n",
              "pickup_longitude            float64\n",
              "pickup_latitude             float64\n",
              "dropoff_longitude           float64\n",
              "dropoff_latitude            float64\n",
              "passenger_count               int64\n",
              "distancia                   float64\n",
              "dtype: object"
            ]
          },
          "metadata": {
            "tags": []
          },
          "execution_count": 102
        }
      ]
    },
    {
      "metadata": {
        "id": "PdYL01iw0hRc",
        "colab_type": "code",
        "colab": {}
      },
      "cell_type": "code",
      "source": [
        "# Separando os dados temporais para podermos visualizar-los melhor\n",
        "\n",
        "chunk['Ano'] = chunk['pickup_datetime'].dt.year\n",
        "chunk['Mes'] = chunk['pickup_datetime'].dt.month\n",
        "chunk['Dia'] = chunk['pickup_datetime'].dt.day\n",
        "chunk['Dia da semana'] = chunk['pickup_datetime'].dt.dayofweek\n",
        "chunk['Horario'] = chunk['pickup_datetime'].dt.hour"
      ],
      "execution_count": 0,
      "outputs": []
    },
    {
      "metadata": {
        "id": "VDEGRPWr4POy",
        "colab_type": "code",
        "colab": {}
      },
      "cell_type": "code",
      "source": [
        ""
      ],
      "execution_count": 0,
      "outputs": []
    },
    {
      "metadata": {
        "id": "PDQGmr2n9NXO",
        "colab_type": "text"
      },
      "cell_type": "markdown",
      "source": [
        "# **Análise exploratória de dados**\n",
        "\n",
        "---\n",
        "\n",
        "\n",
        "\n",
        "**Como é cobrada a taxa de taxi em NYC:**\n",
        "\n",
        "1 - A taxa inicial é de **$2.50**\n",
        "\n",
        "2 - Mais  **50 cents ** a cada 1/5 de Milha (0,321869 km) acima de 12 mph (19,3121 km/h) ou a cada minuto em tráfico devagar\n",
        "\n",
        "3 - **50 cents**  de taxa adicional para todas viagens que terminam em NYC, Nassau, Suffolk, Westchester, Rockland, Dutchess, Orange ou Putnam Counties\n",
        "\n",
        "4 - ** 30 cents** de taxa de melhoramento\n",
        "\n",
        "5 - ** 50 cents ** de taxa para tráfego entre **8pm** e **6am**\n",
        "\n",
        "6 - ** $1.00 ** de taxa de hora do rush (**4pm ate 8pm**) em dias de semana, não se aplicando a feriados\n",
        "\n",
        "7 -  Taxa de congestionamento de ** 2.50 ** (Taxi amarelo) , ** 2.75** (Taxi verde ou FHV) ou **75 cents** para corridas compartilhadas para todas as corridas que começam, terminam ou passam por Manhattan south of 96th street\n",
        "\n",
        "8 - Pedágios e gorjetas são acrescidos caso necessário\n",
        "\n",
        "**Hipóteses:**\n",
        "\n",
        "1 - A distância percorrida impacta no valor da taxa\n",
        "\n",
        "2 - O Número de pessoas impacta no valor da taxa\n",
        "\n",
        "3 - O horário o qual o taxi foi pego impacta no valor\n",
        "\n",
        "4 - O dia da semana o qual o taxi foi pego impacta no valor\n",
        "\n",
        "5 - O Taxi foi pego em um aeroporto, onde a taxa é maior\n",
        "\n",
        "6 - Os meses impactam no valor da taxa?\n",
        "\n",
        "\n"
      ]
    },
    {
      "metadata": {
        "id": "FLhNFsr4CvNR",
        "colab_type": "text"
      },
      "cell_type": "markdown",
      "source": [
        "##**Hipótese 1**\n",
        "\n",
        "---\n",
        "A distância impacta no valor da taxa?\n"
      ]
    },
    {
      "metadata": {
        "id": "NU0qgaLX8-gg",
        "colab_type": "code",
        "colab": {}
      },
      "cell_type": "code",
      "source": [
        ""
      ],
      "execution_count": 0,
      "outputs": []
    }
  ]
}